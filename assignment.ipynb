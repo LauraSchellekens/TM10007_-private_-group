{
  "nbformat": 4,
  "nbformat_minor": 0,
  "metadata": {
    "colab": {
      "name": "assignment.ipynb",
      "provenance": [],
      "collapsed_sections": [],
      "include_colab_link": true
    },
    "kernelspec": {
      "display_name": "Python 3",
      "language": "python",
      "name": "python3"
    },
    "language_info": {
      "codemirror_mode": {
        "name": "ipython",
        "version": 3
      },
      "file_extension": ".py",
      "mimetype": "text/x-python",
      "name": "python",
      "nbconvert_exporter": "python",
      "pygments_lexer": "ipython3",
      "version": "3.7.4"
    }
  },
  "cells": [
    {
      "cell_type": "markdown",
      "metadata": {
        "id": "view-in-github",
        "colab_type": "text"
      },
      "source": [
        "<a href=\"https://colab.research.google.com/github/LauraSchellekens/TM10007_-private_-group/blob/master/assignment.ipynb\" target=\"_parent\"><img src=\"https://colab.research.google.com/assets/colab-badge.svg\" alt=\"Open In Colab\"/></a>"
      ]
    },
    {
      "cell_type": "markdown",
      "metadata": {
        "colab_type": "text",
        "id": "7SXpaKwwGe5x"
      },
      "source": [
        "# TM10007 Assignment template"
      ]
    },
    {
      "cell_type": "code",
      "metadata": {
        "colab_type": "code",
        "id": "CiDn2Sk-VWqE",
        "outputId": "508b86ee-a6df-40e6-b783-3d182796713c",
        "colab": {
          "base_uri": "https://localhost:8080/",
          "height": 34
        }
      },
      "source": [
        "# Run this to use from colab environment\n",
        "# iets veranderd\n",
        "!pip install -q --upgrade git+https://github.com/karinvangarderen/tm10007_project.git"
      ],
      "execution_count": 0,
      "outputs": [
        {
          "output_type": "stream",
          "text": [
            "  Building wheel for brats (setup.py) ... \u001b[?25l\u001b[?25hdone\n"
          ],
          "name": "stdout"
        }
      ]
    },
    {
      "cell_type": "markdown",
      "metadata": {
        "id": "g4RSrpn64xBB",
        "colab_type": "text"
      },
      "source": [
        "## Data loading and cleaning\n",
        "\n",
        "Below are functions to load the dataset of your choice. After that, it is all up to you to create and evaluate a classification method. Beware, there may be missing values in these datasets. Good luck!"
      ]
    },
    {
      "cell_type": "code",
      "metadata": {
        "id": "vfEM3ZrBFslw",
        "colab_type": "code",
        "colab": {}
      },
      "source": [
        "# General packages\n",
        "import numpy as np \n",
        "import pandas as pd\n",
        "\n",
        "from sklearn.ensemble import RandomForestClassifier\n",
        "from sklearn import metrics\n",
        "from sklearn import model_selection\n",
        "from sklearn import preprocessing\n",
        "from sklearn import impute\n",
        "from sklearn import datasets, linear_model\n",
        "from sklearn.model_selection import train_test_split"
      ],
      "execution_count": 0,
      "outputs": []
    },
    {
      "cell_type": "code",
      "metadata": {
        "colab_type": "code",
        "id": "-NE_fTbKGe5z",
        "outputId": "9bfc74a8-36ba-4025-85ed-2e4b9452741d",
        "colab": {
          "base_uri": "https://localhost:8080/",
          "height": 302
        }
      },
      "source": [
        "# Data loading functions. Uncomment the one you want to use\n",
        "from adni.load_data import load_data\n",
        "import pandas as pd\n",
        "#from brats.load_data import load_data\n",
        "#from hn.load_data import load_data\n",
        "\n",
        "data = load_data()\n",
        "print(f'The number of samples: {len(data.index)}')\n",
        "print(f'The number of columns: {len(data.columns)}')\n",
        "\n",
        "print(type(data)) # data is dataframe\n",
        "X = data.drop('label', axis=1) # All data without column 'label'\n",
        "Y = data['label'] # AD en CN moeten alleen nog omgezet worden naar 0 en 1\n",
        "Y.replace(('AD', 'CN'), (1, 0), inplace=True) # AD en CN omgezet naar 0 en 1\n"
      ],
      "execution_count": 0,
      "outputs": [
        {
          "output_type": "stream",
          "text": [
            "The number of samples: 855\n",
            "The number of columns: 268\n",
            "<class 'pandas.core.frame.DataFrame'>\n",
            "<class 'pandas.core.series.Series'>\n",
            "ID\n",
            "0_002_S_0413_bl_0    1\n",
            "0_002_S_0559_bl_0    1\n",
            "0_002_S_0619_bl_0    0\n",
            "0_002_S_0685_bl_0    1\n",
            "0_002_S_0816_bl_0    0\n",
            "                    ..\n",
            "0_941_S_4292_bl_0    1\n",
            "0_941_S_4365_bl_0    1\n",
            "0_941_S_4376_bl_0    1\n",
            "0_941_S_5124_bl_0    1\n",
            "0_941_S_5193_bl_0    1\n",
            "Name: label, Length: 855, dtype: int64\n"
          ],
          "name": "stdout"
        }
      ]
    },
    {
      "cell_type": "code",
      "metadata": {
        "id": "ALV9F1WaFky5",
        "colab_type": "code",
        "colab": {}
      },
      "source": [
        "# split into train and test set\n",
        "df = pd.DataFrame(data)\n",
        "X_train, X_test, y_train, y_test = train_test_split(df, Y, test_size=0.3)\n",
        "print (X_train.shape, y_train.shape)\n",
        "print (X_test.shape, y_test.shape)\n",
        "#print(y_test)"
      ],
      "execution_count": 0,
      "outputs": []
    },
    {
      "cell_type": "code",
      "metadata": {
        "id": "bhzsIpDZF1lc",
        "colab_type": "code",
        "colab": {}
      },
      "source": [
        "# Preprocessing:  fill missing, scaling, feature selection\n",
        "\n",
        "# To do: hoeveel samples per feature missen en waar ik cut off bepaal. \n",
        "\n",
        "# Replace 0 with NaN and fill missing\n",
        "X_train_NaN = X_train.replace(0, np.NaN) # nog een keer checken waar ik dit heb gevonden\n",
        "imputer = impute.SimpleImputer(strategy='median') # median \n",
        "X_train_imp = imputer.fit_transform(X_train_NaN)\n",
        "#print(X_train_imp)\n",
        "\n",
        "# Scaling\n",
        "X_scaled = preprocessing.scale(X_train_imp)\n",
        "print(X_scaled)"
      ],
      "execution_count": 0,
      "outputs": []
    }
  ]
}