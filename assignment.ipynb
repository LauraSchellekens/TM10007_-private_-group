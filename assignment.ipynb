{
  "nbformat": 4,
  "nbformat_minor": 0,
  "metadata": {
    "colab": {
      "name": "assignment.ipynb",
      "provenance": [],
      "collapsed_sections": [],
      "include_colab_link": true
    },
    "kernelspec": {
      "display_name": "Python 3",
      "language": "python",
      "name": "python3"
    },
    "language_info": {
      "codemirror_mode": {
        "name": "ipython",
        "version": 3
      },
      "file_extension": ".py",
      "mimetype": "text/x-python",
      "name": "python",
      "nbconvert_exporter": "python",
      "pygments_lexer": "ipython3",
      "version": "3.7.4"
    }
  },
  "cells": [
    {
      "cell_type": "markdown",
      "metadata": {
        "id": "view-in-github",
        "colab_type": "text"
      },
      "source": [
        "<a href=\"https://colab.research.google.com/github/LauraSchellekens/TM10007_-private_-group/blob/master/assignment.ipynb\" target=\"_parent\"><img src=\"https://colab.research.google.com/assets/colab-badge.svg\" alt=\"Open In Colab\"/></a>"
      ]
    },
    {
      "cell_type": "markdown",
      "metadata": {
        "colab_type": "text",
        "id": "7SXpaKwwGe5x"
      },
      "source": [
        "# TM10007 Assignment template"
      ]
    },
    {
      "cell_type": "code",
      "metadata": {
        "colab_type": "code",
        "id": "CiDn2Sk-VWqE",
        "outputId": "5fef8464-528a-4805-cc35-25c9b071853b",
        "colab": {
          "base_uri": "https://localhost:8080/",
          "height": 235
        }
      },
      "source": [
        "# Run this to use from colab environment\n",
        "!pip install -q --upgrade git+https://github.com/karinvangarderen/tm10007_project.git\n",
        "!pip install sklearn numpy matplotlib\n"
      ],
      "execution_count": 1,
      "outputs": [
        {
          "output_type": "stream",
          "text": [
            "  Building wheel for brats (setup.py) ... \u001b[?25l\u001b[?25hdone\n",
            "Requirement already satisfied: sklearn in /usr/local/lib/python3.6/dist-packages (0.0)\n",
            "Requirement already satisfied: numpy in /usr/local/lib/python3.6/dist-packages (1.18.2)\n",
            "Requirement already satisfied: matplotlib in /usr/local/lib/python3.6/dist-packages (3.2.1)\n",
            "Requirement already satisfied: scikit-learn in /usr/local/lib/python3.6/dist-packages (from sklearn) (0.22.2.post1)\n",
            "Requirement already satisfied: python-dateutil>=2.1 in /usr/local/lib/python3.6/dist-packages (from matplotlib) (2.8.1)\n",
            "Requirement already satisfied: kiwisolver>=1.0.1 in /usr/local/lib/python3.6/dist-packages (from matplotlib) (1.2.0)\n",
            "Requirement already satisfied: cycler>=0.10 in /usr/local/lib/python3.6/dist-packages (from matplotlib) (0.10.0)\n",
            "Requirement already satisfied: pyparsing!=2.0.4,!=2.1.2,!=2.1.6,>=2.0.1 in /usr/local/lib/python3.6/dist-packages (from matplotlib) (2.4.6)\n",
            "Requirement already satisfied: joblib>=0.11 in /usr/local/lib/python3.6/dist-packages (from scikit-learn->sklearn) (0.14.1)\n",
            "Requirement already satisfied: scipy>=0.17.0 in /usr/local/lib/python3.6/dist-packages (from scikit-learn->sklearn) (1.4.1)\n",
            "Requirement already satisfied: six>=1.5 in /usr/local/lib/python3.6/dist-packages (from python-dateutil>=2.1->matplotlib) (1.12.0)\n"
          ],
          "name": "stdout"
        }
      ]
    },
    {
      "cell_type": "markdown",
      "metadata": {
        "id": "g4RSrpn64xBB",
        "colab_type": "text"
      },
      "source": [
        "## Data loading and cleaning\n",
        "\n",
        "Below are functions to load the dataset of your choice. After that, it is all up to you to create and evaluate a classification method. Beware, there may be missing values in these datasets. Good luck!"
      ]
    },
    {
      "cell_type": "code",
      "metadata": {
        "id": "vfEM3ZrBFslw",
        "colab_type": "code",
        "colab": {}
      },
      "source": [
        "# General packages not sure anymore what I'm actually using lol\n",
        "import numpy as np \n",
        "import pandas as pd\n",
        "import matplotlib.pyplot as plt\n",
        "import math\n",
        "\n",
        "from sklearn import svm\n",
        "from sklearn import metrics\n",
        "from sklearn import model_selection\n",
        "from sklearn import preprocessing\n",
        "from sklearn import impute\n",
        "from sklearn import datasets, linear_model\n",
        "from sklearn.model_selection import train_test_split\n",
        "from sklearn import feature_selection\n",
        "from sklearn.impute import SimpleImputer\n",
        "from sklearn import datasets, linear_model\n",
        "from sklearn import datasets as ds\n",
        "\n",
        "# Classifiers\n",
        "from sklearn.neighbors import KNeighborsClassifier\n",
        "from sklearn.svm import SVC\n",
        "from sklearn.ensemble import RandomForestClassifier\n",
        "\n",
        "# Hyperparameter selection\n",
        "from sklearn.metrics import balanced_accuracy_score\n",
        "from sklearn.model_selection import GridSearchCV\n",
        "from sklearn.model_selection import cross_val_score\n",
        "from sklearn.metrics import classification_report\n",
        "\n",
        "# Learning curve\n",
        "import numpy as np\n",
        "import matplotlib.pyplot as plt\n",
        "from sklearn.naive_bayes import GaussianNB\n",
        "from sklearn.svm import SVC\n",
        "from sklearn.datasets import load_digits\n",
        "from sklearn.model_selection import learning_curve\n",
        "from sklearn.model_selection import ShuffleSplit\n"
      ],
      "execution_count": 0,
      "outputs": []
    },
    {
      "cell_type": "code",
      "metadata": {
        "colab_type": "code",
        "id": "-NE_fTbKGe5z",
        "outputId": "94e30486-414c-4b38-af9a-3434d8cc4757",
        "colab": {
          "base_uri": "https://localhost:8080/",
          "height": 90
        }
      },
      "source": [
        "# Data loading functions. Uncomment the one you want to use\n",
        "from adni.load_data import load_data\n",
        "\n",
        "data = load_data()\n",
        "print(f'The number of samples: {len(data.index)}')\n",
        "print(f'The number of columns: {len(data.columns)}')\n",
        "\n",
        "\n",
        "X = data.drop('label', axis=1) # All data without column 'label'\n",
        "Y = data['label'] \n",
        "Y.replace(('AD', 'CN'), (1, 0), inplace=True) # convert AD and CN to 1 and 0\n",
        "AD = (list(data['label'] == 0)).count(True)\n",
        "print(f'The number of AD patients: {AD}') # displays number AD patients\n",
        "CN = (list(data['label'] == 0)).count(False)\n",
        "print(f'The number of CN patients: {CN}') # displays number of CN patients \n",
        "percentage_AD=AD/(AD+CN)     # eventueel zeggen dat we features weggooien in de stap hieronder als er meer dan 20% mist, want AD is 40%????"
      ],
      "execution_count": 3,
      "outputs": [
        {
          "output_type": "stream",
          "text": [
            "The number of samples: 855\n",
            "The number of columns: 268\n",
            "The number of AD patients: 336\n",
            "The number of CN patients: 519\n"
          ],
          "name": "stdout"
        }
      ]
    },
    {
      "cell_type": "code",
      "metadata": {
        "id": "ALV9F1WaFky5",
        "colab_type": "code",
        "outputId": "882be6b4-bf88-4de0-cd2e-033463733f11",
        "colab": {
          "base_uri": "https://localhost:8080/",
          "height": 53
        }
      },
      "source": [
        "# Preprocessing: drop feature if values are constant or too many are missing  \n",
        "\n",
        "X = X.loc[:,X.apply(pd.Series.nunique) != 1]          # if column is constant, drop feature\n",
        "\n",
        "X = X.replace(0, np.NaN)                              # replace 0 with NaN\n",
        "X = X.replace(0.0,np.NaN)                             # just to be sure\n",
        "missing_per_feature = X.isnull().sum()                # gives the amount of missing values (NaN) per feature\n",
        "pct_null = missing_per_feature / len(X)               # gives percentage of missing values per feature\n",
        "missing_features = pct_null[pct_null > 0.20].index    # gives features with more than 20% missing values\n",
        "X.drop(missing_features, axis=1, inplace=True)        # remove feature if more than 20% missing values\n",
        "\n",
        "missing_per_feature_max = max(X.isnull().sum())       # gives the maximum amount of missing values (NaN) per feature AFTER dropping incomplete and constant features\n",
        "\n",
        "print(missing_per_feature_max)\n",
        "print (X.shape, Y.shape)\n"
      ],
      "execution_count": 4,
      "outputs": [
        {
          "output_type": "stream",
          "text": [
            "140\n",
            "(855, 258) (855,)\n"
          ],
          "name": "stdout"
        }
      ]
    },
    {
      "cell_type": "code",
      "metadata": {
        "id": "bhzsIpDZF1lc",
        "colab_type": "code",
        "outputId": "f32e5358-c7e6-4092-c284-de05fbdc7758",
        "colab": {
          "base_uri": "https://localhost:8080/",
          "height": 53
        }
      },
      "source": [
        "# split into train (70%) and test (30%) set\n",
        "\n",
        "X_train, X_test, y_train, y_test = train_test_split(X, Y, test_size=0.3)\n",
        "\n",
        "print (X_train.shape, y_train.shape)\n",
        "print (X_test.shape, y_test.shape)"
      ],
      "execution_count": 5,
      "outputs": [
        {
          "output_type": "stream",
          "text": [
            "(598, 258) (598,)\n",
            "(257, 258) (257,)\n"
          ],
          "name": "stdout"
        }
      ]
    },
    {
      "cell_type": "code",
      "metadata": {
        "id": "bF5N3yD9qTOT",
        "colab_type": "code",
        "colab": {}
      },
      "source": [
        "# Preprocessing:  impute missing values (fill missing)\n",
        "\n",
        "imputer = impute.SimpleImputer(strategy='mean')       # imputer with mean \n",
        "imputer.fit(X_train)                                  # fit the imputer to the train data\n",
        "X_train_imp=imputer.transform(X_train)                # transform the X_train data with the trained imputer\n",
        "X_train_imp = pd.DataFrame(data=X_train_imp, index=[X_train.index], columns=[X_train.columns])  # turn created np.array back to pandas df\n",
        "\n",
        "X_test_imp = imputer.transform(X_test)                # apply imputer to test data   \n",
        "X_test_imp = pd.DataFrame(data=X_test_imp, index=[X_test.index], columns=[X_test.columns])      # turn created np.array back to pandas df\n"
      ],
      "execution_count": 0,
      "outputs": []
    },
    {
      "cell_type": "code",
      "metadata": {
        "id": "zQq8pxCrwUxk",
        "colab_type": "code",
        "outputId": "b69d9367-f378-45f3-9938-5ea27e76ef9e",
        "colab": {
          "base_uri": "https://localhost:8080/",
          "height": 35
        }
      },
      "source": [
        "# Preprocessing: scaling either standard or robust (removes median and scales data according to quantile range) \n",
        "\n",
        "scaler = preprocessing.StandardScaler()\n",
        "scaler.fit(X_train_imp)\n",
        "X_train_scaled = scaler.transform(X_train_imp)        # scaling the training data\n",
        "X_train_scaled = pd.DataFrame(data=X_train_scaled, index=[X_train.index], columns=[X_train.columns])  # turn created np.array back to pandas df\n",
        "\n",
        "X_test_scaled = scaler.transform(X_test_imp)          # scaling the test data\n",
        "X_test_scaled = pd.DataFrame(data=X_test_scaled, index=[X_test.index], columns=[X_test.columns])      # turn created np.array back to pandas df\n",
        "\n",
        "print(len(X_train_scaled))"
      ],
      "execution_count": 11,
      "outputs": [
        {
          "output_type": "stream",
          "text": [
            "598\n"
          ],
          "name": "stdout"
        }
      ]
    },
    {
      "cell_type": "code",
      "metadata": {
        "id": "TsmToGZ2IdnL",
        "colab_type": "code",
        "colab": {}
      },
      "source": [
        "# Code for greedy feature selection through backward feature elimination\n",
        "'''\n",
        "First determine the best amount of features\n",
        "'''\n",
        "\n",
        "# Create the RFE object and compute a cross-validated score.\n",
        "svc = svm.SVC(kernel='linear', random_state=None)\n",
        "\n",
        "# classifications\n",
        "rfecv = feature_selection.RFECV(estimator=svc,step=1,min_features_to_select=15,cv=model_selection.StratifiedKFold(7),scoring='roc_auc')\n",
        "rfecv.fit(X_train_scaled,y_train)\n",
        "X_train_best_array=rfecv.transform(X_train_scaled)\n",
        "\n",
        "# Plot number of features VS. cross-validation scores\n",
        "plt.figure()\n",
        "plt.xlabel(\"Number of features selected\")\n",
        "plt.ylabel(\"Cross validation score (nb of correct classifications)\")\n",
        "plt.plot(range(1, len(rfecv.grid_scores_) + 1), rfecv.grid_scores_)\n",
        "plt.show()\n",
        "\n",
        "# Print score and df of selected features\n",
        "score = rfecv.score(X_train_scaled, y_train)\n",
        "bestfeatures = rfecv.get_support(True)\n",
        "XX=X_train_scaled.iloc[:,bestfeatures]\n",
        "print('------------------------')\n",
        "print(score)\n",
        "print(bestfeatures)\n",
        "XX\n",
        "# rfecv.support_\n",
        "# print(len(rfecv.ranking_))\n"
      ],
      "execution_count": 0,
      "outputs": []
    },
    {
      "cell_type": "code",
      "metadata": {
        "id": "6wZSGsffig8o",
        "colab_type": "code",
        "outputId": "dfc07e90-4331-4902-d8e4-0b90b8c69031",
        "colab": {
          "base_uri": "https://localhost:8080/",
          "height": 658
        }
      },
      "source": [
        "# Code for feature selection\n",
        "'''\n",
        "With the amount of features desired known, find the best performing features\n",
        "'''\n",
        "import pandas as pd\n",
        "import numpy as np\n",
        "from sklearn.feature_selection import SelectKBest\n",
        "from sklearn.feature_selection import f_classif\n",
        "y=y_train\n",
        "XX_length=len(XX)\n",
        " \n",
        "#apply SelectKBest class to extract top ... best features\n",
        "best2 = SelectKBest(score_func= f_classif, k='all') # k= number of desired features\n",
        "fit = best2.fit(XX,y)\n",
        "dfscores = pd.DataFrame(fit.scores_)\n",
        "dfcolumns = pd.DataFrame(XX.columns)\n",
        "#concat two dataframes for better visualization \n",
        "featureScores = pd.concat([dfcolumns,dfscores],axis=1)\n",
        "featureScores.columns = ['Specs','Score']  #naming the dataframe columns\n",
        "print(featureScores.nlargest(XX_length,'Score'))  #print ... best features "
      ],
      "execution_count": 0,
      "outputs": [
        {
          "output_type": "stream",
          "text": [
            "                                            Specs       Score\n",
            "0                                   (hf_entropy,)  427.427213\n",
            "217                          (tf_LBP_std_R3_P12,)  334.302007\n",
            "1                                  (hf_kurtosis,)  334.233558\n",
            "7                            (hf_quartile_range,)  319.800005\n",
            "10                                      (hf_std,)  290.500809\n",
            "110                  (tf_GLRLM_ShortRunEmphasis,)  236.059742\n",
            "99                  (tf_GLRLM_GrayLevelVariance,)  231.468762\n",
            "98   (tf_GLRLM_GrayLevelNonUniformityNormalized,)  226.803663\n",
            "112      (tf_GLRLM_ShortRunLowGrayLevelEmphasis,)  225.566689\n",
            "72              (phasef_phasesym_entropy_WL3_N5,)  202.821690\n",
            "133                      (tf_Gabor_0.05A0.0skew,)  180.773030\n",
            "108                     (tf_GLRLM_RunPercentage,)  173.191494\n",
            "5                                       (hf_min,)  160.641596\n",
            "101                   (tf_GLRLM_LongRunEmphasis,)  158.384793\n",
            "202                     (tf_LBP_kurtosis_R3_P12,)  154.227872\n",
            "75                 (phasef_phasesym_mean_WL3_N5,)  152.775108\n",
            "106            (tf_GLRLM_RunLengthNonUniformity,)  145.208858\n",
            "78             (phasef_phasesym_skewness_WL3_N5,)  144.720967\n",
            "149                     (tf_Gabor_0.05A2.36mean,)  142.300490\n",
            "79                  (phasef_phasesym_std_WL3_N5,)  138.900011\n",
            "8                                     (hf_range,)  138.697948\n",
            "138                      (tf_Gabor_0.05A0.79min,)  136.815268\n",
            "136                      (tf_Gabor_0.05A0.79max,)  131.372042\n",
            "74                  (phasef_phasesym_max_WL3_N5,)  129.372978\n",
            "77                (phasef_phasesym_range_WL3_N5,)  129.372978\n",
            "154                        (tf_Gabor_0.2A0.0max,)  129.075343\n",
            "107  (tf_GLRLM_RunLengthNonUniformityNormalized,)  122.988680\n",
            "161                      (tf_Gabor_0.2A0.79mean,)  122.141871\n",
            "141                     (tf_Gabor_0.05A1.57kurt,)  116.225170\n",
            "158                        (tf_Gabor_0.2A0.0std,)  113.279741\n",
            "153                       (tf_Gabor_0.2A0.0kurt,)  112.503449\n",
            "142                      (tf_Gabor_0.05A1.57max,)  110.258146\n"
          ],
          "name": "stdout"
        },
        {
          "output_type": "stream",
          "text": [
            "/usr/local/lib/python3.6/dist-packages/sklearn/feature_selection/_univariate_selection.py:114: UserWarning: Features [207 210 211 212] are constant.\n",
            "  UserWarning)\n",
            "/usr/local/lib/python3.6/dist-packages/sklearn/feature_selection/_univariate_selection.py:115: RuntimeWarning: invalid value encountered in true_divide\n",
            "  f = msb / msw\n"
          ],
          "name": "stderr"
        }
      ]
    },
    {
      "cell_type": "code",
      "metadata": {
        "id": "247W8K3NYdcq",
        "colab_type": "code",
        "colab": {}
      },
      "source": [
        "# plot of 2 best features according to SelectKbest AFTER rfecv\n",
        "import seaborn\n",
        "z1=XX\n",
        "x1=z1.iloc[:,0]\n",
        "z2=XX\n",
        "x2=z2.iloc[:,2]\n",
        "y = np.array(y_train)\n",
        "seaborn.scatterplot(x=x1, y=x2, hue=y)"
      ],
      "execution_count": 0,
      "outputs": []
    },
    {
      "cell_type": "code",
      "metadata": {
        "id": "EIZOvkMxZGrb",
        "colab_type": "code",
        "colab": {
          "base_uri": "https://localhost:8080/",
          "height": 810
        },
        "outputId": "551a17ba-96c6-4a56-a640-2eb632bb3ba3"
      },
      "source": [
        "# Code for PCA\n",
        "from sklearn import decomposition\n",
        "import seaborn\n",
        "# nb_features = X_train_scaled.count\n",
        "pca = decomposition.PCA(n_components=258) #DIT MOETEN WE NOG GENERALISEREN\n",
        "X_pca= X_train_scaled\n",
        "test= X_test_scaled\n",
        "pca.fit(X_pca)\n",
        "X_train_pca = pca.transform(X)\n",
        "y= y_train\n",
        "X_test_pca = pca.transform(test)\n",
        "print(X_train_pca)\n",
        "seaborn.scatterplot(x=X_train_pca[:, 0], y=X_train_pca[:, 1], hue=y)"
      ],
      "execution_count": 16,
      "outputs": [
        {
          "output_type": "stream",
          "text": [
            "<bound method DataFrame.count of                   hf_energy  ... vf_Frangi_inner_std_SR(1.0, 10.0)_SS2.0\n",
            "ID                           ...                                        \n",
            "0_131_S_0691_bl_0 -0.208289  ...                               -0.537407\n",
            "0_014_S_4093_bl_0 -0.304504  ...                               -0.297745\n",
            "0_032_S_1169_bl_0 -0.631501  ...                               -0.697590\n",
            "0_082_S_0761_bl_0 -0.817838  ...                                0.498777\n",
            "0_131_S_0319_bl_0  1.768382  ...                               -0.973933\n",
            "...                     ...  ...                                     ...\n",
            "0_137_S_4587_bl_0  0.470903  ...                               -0.107785\n",
            "0_022_S_0130_bl_0 -0.644823  ...                               -0.740011\n",
            "0_136_S_0300_bl_0  0.510830  ...                               -0.795294\n",
            "0_027_S_0403_bl_0  0.011176  ...                                2.161616\n",
            "0_009_S_1334_bl_0 -0.849378  ...                                1.819873\n",
            "\n",
            "[598 rows x 258 columns]>\n",
            "<class 'method'>\n",
            "[[ 8.21751437e+00 -8.05346111e+00 -6.80520598e+00 ...  3.31488944e-16\n",
            "   2.64320857e-17  1.64944820e-15]\n",
            " [ 4.78351299e+00  1.02699858e-01 -3.95431120e+00 ... -3.24835179e-16\n",
            "  -1.94425293e-16  4.65891961e-16]\n",
            " [-2.40102127e-02 -4.39524041e+00 -1.18681299e-01 ... -3.20482616e-16\n",
            "  -1.09658182e-16 -9.53472523e-16]\n",
            " ...\n",
            " [-5.36301589e+00 -3.55374963e-01  4.02291522e+00 ...  8.68645842e-17\n",
            "   6.56307249e-17 -5.01280964e-16]\n",
            " [-2.69074322e+00 -1.84370691e+00  4.05168232e+00 ...  2.89681585e-16\n",
            "   1.51364897e-16  2.11998364e-16]\n",
            " [-3.23305035e-01 -2.77420616e+00  1.45226130e+00 ...  1.29953972e-16\n",
            "   3.01253308e-17 -7.72323423e-17]]\n"
          ],
          "name": "stdout"
        },
        {
          "output_type": "execute_result",
          "data": {
            "text/plain": [
              "<matplotlib.axes._subplots.AxesSubplot at 0x7f9c3fb3fa58>"
            ]
          },
          "metadata": {
            "tags": []
          },
          "execution_count": 16
        },
        {
          "output_type": "display_data",
          "data": {
            "image/png": "[encoded data removed]",
            "text/plain": [
              "<Figure size 432x288 with 1 Axes>"
            ]
          },
          "metadata": {
            "tags": []
          }
        }
      ]
    },
    {
      "cell_type": "code",
      "metadata": {
        "id": "CJjc_64IZTo7",
        "colab_type": "code",
        "colab": {
          "base_uri": "https://localhost:8080/",
          "height": 279
        },
        "outputId": "4f37f0be-e6c7-4bec-a242-cdeb23a1f23c"
      },
      "source": [
        "#plot for explained variance ratio (choose right number of components)\n",
        "plt.plot(np.cumsum(pca.explained_variance_ratio_))\n",
        "plt.xlabel('number of components')\n",
        "plt.ylabel('cumulative explained variance');"
      ],
      "execution_count": 15,
      "outputs": [
        {
          "output_type": "display_data",
          "data": {
            "image/png": "[encoded data removed]",
            "text/plain": [
              "<Figure size 432x288 with 1 Axes>"
            ]
          },
          "metadata": {
            "tags": []
          }
        }
      ]
    },
    {
      "cell_type": "code",
      "metadata": {
        "id": "4GWUil5e___A",
        "colab_type": "code",
        "outputId": "d297455c-301f-40df-a226-d5ebd3f1d4f5",
        "colab": {
          "base_uri": "https://localhost:8080/",
          "height": 121
        }
      },
      "source": [
        "# Random Forest Classifier\n",
        "\n",
        "# Set parameters\n",
        "parameters = {\"n_estimators\": list(range(1, 20, 2))}\n",
        "    # nog een range kiezen\n",
        "\n",
        "score = 'balanced_accuracy'\n",
        "\n",
        "print('# Random Forest Classifier')\n",
        "print()\n",
        "rfc = RandomForestClassifier()\n",
        "grid_search = GridSearchCV(\n",
        "    rfc, parameters, scoring=score\n",
        ") \n",
        "# cv is nu default, dus een kfold van 5! \n",
        "grid_search.fit(X_train_scaled, y_train)\n",
        "\n",
        "clf_rf = grid_search.best_estimator_\n",
        "best_parameters_rf = grid_search.best_params_\n",
        "print(f\"Best parameter found on development set: {best_parameters_rf}\")\n",
        "print()\n",
        "score_rf = grid_search.best_score_\n",
        "print(f\"Grid score on development set: {score_rf}\")\n",
        "print()\n"
      ],
      "execution_count": 0,
      "outputs": [
        {
          "output_type": "stream",
          "text": [
            "# Random Forest Classifier\n",
            "\n",
            "Best parameters set found on development set: {'n_estimators': 13}\n",
            "\n",
            "Grid score on development set: 0.7978606010557336\n",
            "\n"
          ],
          "name": "stdout"
        }
      ]
    },
    {
      "cell_type": "code",
      "metadata": {
        "id": "TuutfCjs6Rjq",
        "colab_type": "code",
        "outputId": "4f4f0607-7ab7-469b-b14d-8e315c065a65",
        "colab": {
          "base_uri": "https://localhost:8080/",
          "height": 121
        }
      },
      "source": [
        "# Support Vector Machine Classifier\n",
        "\n",
        "# Set parameters\n",
        "parameters = [{'kernel': ['rbf'], 'gamma': [1e-3, 1e-2],\n",
        "                     'C': list(range(1, 20, 1))},\n",
        "              {'kernel':['linear'], 'C': list(range(1, 20, 1))}]\n",
        "\n",
        "score='balanced_accuracy'\n",
        "\n",
        "print('# Support Vector Machine Classifier')\n",
        "print()\n",
        "svc = SVC()\n",
        "grid_search = GridSearchCV(\n",
        "    svc, parameters, scoring=score\n",
        ") \n",
        "# cv is nu default, dus een kfold van 5! \n",
        "grid_search.fit(X_train_scaled, y_train)\n",
        "\n",
        "clf_svm = grid_search.best_estimator_\n",
        "best_parameters_svm = grid_search.best_params_\n",
        "print(f\"Best parameters set found on development set: {best_parameters_svm}\")\n",
        "print()\n",
        "score_svm = grid_search.best_score_\n",
        "print(f\"Grid score on development set: {score_svm}\")\n",
        "print()"
      ],
      "execution_count": 0,
      "outputs": [
        {
          "output_type": "stream",
          "text": [
            "# Support Vector Machine Classifier\n",
            "\n",
            "Best parameters set found on development set: {'C': 2, 'gamma': 0.001, 'kernel': 'rbf'}\n",
            "\n",
            "Grid score on development set: 0.8045326111596879\n",
            "\n"
          ],
          "name": "stdout"
        }
      ]
    },
    {
      "cell_type": "code",
      "metadata": {
        "id": "SDDcjSKdCSnu",
        "colab_type": "code",
        "outputId": "5379e96a-e4e7-40cd-e27d-c18903fa1f31",
        "colab": {
          "base_uri": "https://localhost:8080/",
          "height": 138
        }
      },
      "source": [
        "# K Nearest Neighbour Classifier\n",
        "\n",
        "# Set parameters\n",
        "parameters = {\"n_neighbors\": list(range(1, 50, 2))}\n",
        "\n",
        "score = 'balanced_accuracy'\n",
        "\n",
        "print(\"# K Nearest Neighbour Classifier\")\n",
        "print()\n",
        "knn = KNeighborsClassifier()\n",
        "grid_search = GridSearchCV(\n",
        "    knn, parameters, scoring=score\n",
        ") \n",
        "# cv is nu default, dus een kfold van 5! \n",
        "grid_search.fit(X_train_scaled, y_train)\n",
        "\n",
        "clf_knn = grid_search.best_estimator_\n",
        "best_parameters_knn = grid_search.best_params_\n",
        "print(f\"Best parameter found on development set: {best_parameters_knn}\")\n",
        "print()\n",
        "score_knn = grid_search.best_score_\n",
        "print(f\"Grid score on development set: {score_knn}\")\n",
        "print()\n",
        "type(clf_knn)\n"
      ],
      "execution_count": 0,
      "outputs": [
        {
          "output_type": "stream",
          "text": [
            "# K Nearest Neighbour Classifier\n",
            "\n",
            "Best parameter found on development set: {'n_neighbors': 17}\n",
            "\n",
            "Grid score on development set: 0.785850011334564\n",
            "\n"
          ],
          "name": "stdout"
        },
        {
          "output_type": "execute_result",
          "data": {
            "text/plain": [
              "sklearn.neighbors._classification.KNeighborsClassifier"
            ]
          },
          "metadata": {
            "tags": []
          },
          "execution_count": 32
        }
      ]
    },
    {
      "cell_type": "code",
      "metadata": {
        "id": "MpK995aJJlKQ",
        "colab_type": "code",
        "outputId": "b8b818e3-4d90-4f02-f069-cfca6d3e4428",
        "colab": {
          "base_uri": "https://localhost:8080/",
          "height": 86
        }
      },
      "source": [
        "# code for choosing the best performing classifier\n",
        "\n",
        "all_scores = {clf_rf : score_rf, clf_svm : score_svm, clf_knn : score_knn}\n",
        "\n",
        "best_classifier=max(all_scores, key=all_scores.get)\n",
        "print(f\"Best classifier: {best_classifier}\")\n"
      ],
      "execution_count": 0,
      "outputs": [
        {
          "output_type": "stream",
          "text": [
            "Best classifier: SVC(C=2, break_ties=False, cache_size=200, class_weight=None, coef0=0.0,\n",
            "    decision_function_shape='ovr', degree=3, gamma=0.001, kernel='rbf',\n",
            "    max_iter=-1, probability=False, random_state=None, shrinking=True,\n",
            "    tol=0.001, verbose=False)\n"
          ],
          "name": "stdout"
        }
      ]
    },
    {
      "cell_type": "code",
      "metadata": {
        "id": "ICXpAENoN-oQ",
        "colab_type": "code",
        "colab": {}
      },
      "source": [
        ""
      ],
      "execution_count": 0,
      "outputs": []
    },
    {
      "cell_type": "code",
      "metadata": {
        "id": "xWDHUWp4RrWZ",
        "colab_type": "code",
        "outputId": "b125e44e-2fbc-4099-8cc0-a82308f1fa9f",
        "colab": {
          "base_uri": "https://localhost:8080/",
          "height": 121
        }
      },
      "source": [
        "# test data\n",
        "print('# Evaluate with test data set')\n",
        "y_true, y_pred = y_test, best_classifier.predict(X_test_scaled)\n",
        "\n",
        "auc=metrics.roc_auc_score(y_true, y_pred)\n",
        "print(f'AUC:{auc}')\n",
        "accuracy=metrics.balanced_accuracy_score(y_true, y_pred)\n",
        "print(f'accuracy:{accuracy}')\n",
        "F1=metrics.f1_score(y_true,y_pred)\n",
        "print(f'F1:{F1}')\n",
        "precision=metrics.precision_score(y_true,y_pred)\n",
        "print(f'precision:{precision}')\n",
        "recall=metrics.recall_score(y_true, y_pred)\n",
        "print(f'recall:{recall}')"
      ],
      "execution_count": 0,
      "outputs": [
        {
          "output_type": "stream",
          "text": [
            "# Evaluate with test data set\n",
            "AUC:0.7908733181010408\n",
            "accuracy:0.7908733181010408\n",
            "F1:0.8427672955974842\n",
            "precision:0.8271604938271605\n",
            "recall:0.8589743589743589\n"
          ],
          "name": "stdout"
        }
      ]
    },
    {
      "cell_type": "code",
      "metadata": {
        "id": "a6WzUPEjkskc",
        "colab_type": "code",
        "colab": {}
      },
      "source": [
        "# Function for learning curve from https://scikit-learn.org/stable/auto_examples/model_selection/plot_learning_curve.html#sphx-glr-auto-examples-model-selection-plot-learning-curve-py\n",
        "def plot_learning_curve(estimator, title, X, y, axes=None, ylim=None, cv=None,\n",
        "                        n_jobs=None, train_sizes=np.linspace(.1, 1.0, 5)):\n",
        "    \"\"\"\n",
        "    Generate 3 plots: the test and training learning curve, the training\n",
        "    samples vs fit times curve, the fit times vs score curve.\n",
        "\n",
        "    Parameters\n",
        "    ----------\n",
        "    estimator : object type that implements the \"fit\" and \"predict\" methods\n",
        "        An object of that type which is cloned for each validation.\n",
        "\n",
        "    title : string\n",
        "        Title for the chart.\n",
        "\n",
        "    X : array-like, shape (n_samples, n_features)\n",
        "        Training vector, where n_samples is the number of samples and\n",
        "        n_features is the number of features.\n",
        "\n",
        "    y : array-like, shape (n_samples) or (n_samples, n_features), optional\n",
        "        Target relative to X for classification or regression;\n",
        "        None for unsupervised learning.\n",
        "\n",
        "    axes : array of 3 axes, optional (default=None)\n",
        "        Axes to use for plotting the curves.\n",
        "\n",
        "    ylim : tuple, shape (ymin, ymax), optional\n",
        "        Defines minimum and maximum yvalues plotted.\n",
        "\n",
        "    cv : int, cross-validation generator or an iterable, optional\n",
        "        Determines the cross-validation splitting strategy.\n",
        "        Possible inputs for cv are:\n",
        "          - None, to use the default 5-fold cross-validation,\n",
        "          - integer, to specify the number of folds.\n",
        "          - :term:`CV splitter`,\n",
        "          - An iterable yielding (train, test) splits as arrays of indices.\n",
        "\n",
        "        For integer/None inputs, if ``y`` is binary or multiclass,\n",
        "        :class:`StratifiedKFold` used. If the estimator is not a classifier\n",
        "        or if ``y`` is neither binary nor multiclass, :class:`KFold` is used.\n",
        "\n",
        "        Refer :ref:`User Guide <cross_validation>` for the various\n",
        "        cross-validators that can be used here.\n",
        "\n",
        "    n_jobs : int or None, optional (default=None)\n",
        "        Number of jobs to run in parallel.\n",
        "        ``None`` means 1 unless in a :obj:`joblib.parallel_backend` context.\n",
        "        ``-1`` means using all processors. See :term:`Glossary <n_jobs>`\n",
        "        for more details.\n",
        "\n",
        "    train_sizes : array-like, shape (n_ticks,), dtype float or int\n",
        "        Relative or absolute numbers of training examples that will be used to\n",
        "        generate the learning curve. If the dtype is float, it is regarded as a\n",
        "        fraction of the maximum size of the training set (that is determined\n",
        "        by the selected validation method), i.e. it has to be within (0, 1].\n",
        "        Otherwise it is interpreted as absolute sizes of the training sets.\n",
        "        Note that for classification the number of samples usually have to\n",
        "        be big enough to contain at least one sample from each class.\n",
        "        (default: np.linspace(0.1, 1.0, 5))\n",
        "    \"\"\"\n",
        "    if axes is None:\n",
        "        _, axes = plt.subplots(1, 3, figsize=(20, 5))\n",
        "\n",
        "    axes[0].set_title(title)\n",
        "    if ylim is not None:\n",
        "        axes[0].set_ylim(*ylim)\n",
        "    axes[0].set_xlabel(\"Training examples\")\n",
        "    axes[0].set_ylabel(\"Score\")\n",
        "\n",
        "    train_sizes, train_scores, test_scores, fit_times, _ = \\\n",
        "        learning_curve(estimator, X, y, cv=cv, n_jobs=n_jobs,\n",
        "                       train_sizes=train_sizes,\n",
        "                       return_times=True)\n",
        "    train_scores_mean = np.mean(train_scores, axis=1)\n",
        "    train_scores_std = np.std(train_scores, axis=1)\n",
        "    test_scores_mean = np.mean(test_scores, axis=1)\n",
        "    test_scores_std = np.std(test_scores, axis=1)\n",
        "    fit_times_mean = np.mean(fit_times, axis=1)\n",
        "    fit_times_std = np.std(fit_times, axis=1)\n",
        "\n",
        "    # Plot learning curve\n",
        "    axes[0].grid()\n",
        "    axes[0].fill_between(train_sizes, train_scores_mean - train_scores_std,\n",
        "                         train_scores_mean + train_scores_std, alpha=0.1,\n",
        "                         color=\"r\")\n",
        "    axes[0].fill_between(train_sizes, test_scores_mean - test_scores_std,\n",
        "                         test_scores_mean + test_scores_std, alpha=0.1,\n",
        "                         color=\"g\")\n",
        "    axes[0].plot(train_sizes, train_scores_mean, 'o-', color=\"r\",\n",
        "                 label=\"Training score\")\n",
        "    axes[0].plot(train_sizes, test_scores_mean, 'o-', color=\"g\",\n",
        "                 label=\"Cross-validation score\")\n",
        "    axes[0].legend(loc=\"best\")\n",
        "\n",
        "    # Plot n_samples vs fit_times\n",
        "    axes[1].grid()\n",
        "    axes[1].plot(train_sizes, fit_times_mean, 'o-')\n",
        "    axes[1].fill_between(train_sizes, fit_times_mean - fit_times_std,\n",
        "                         fit_times_mean + fit_times_std, alpha=0.1)\n",
        "    axes[1].set_xlabel(\"Training examples\")\n",
        "    axes[1].set_ylabel(\"fit_times\")\n",
        "    axes[1].set_title(\"Scalability of the model\")\n",
        "\n",
        "    # Plot fit_time vs score\n",
        "    axes[2].grid()\n",
        "    axes[2].plot(fit_times_mean, test_scores_mean, 'o-')\n",
        "    axes[2].fill_between(fit_times_mean, test_scores_mean - test_scores_std,\n",
        "                         test_scores_mean + test_scores_std, alpha=0.1)\n",
        "    axes[2].set_xlabel(\"fit_times\")\n",
        "    axes[2].set_ylabel(\"Score\")\n",
        "    axes[2].set_title(\"Performance of the model\")\n",
        "\n",
        "    return plt"
      ],
      "execution_count": 0,
      "outputs": []
    },
    {
      "cell_type": "markdown",
      "metadata": {
        "id": "rrsXdG95HjZS",
        "colab_type": "text"
      },
      "source": [
        ""
      ]
    },
    {
      "cell_type": "code",
      "metadata": {
        "id": "MSyt-1IVg8aF",
        "colab_type": "code",
        "outputId": "b64e346f-804f-4411-e68a-0348493d01c1",
        "colab": {
          "base_uri": "https://localhost:8080/",
          "height": 294
        }
      },
      "source": [
        "# Learning Curve\n",
        "\n",
        "X = X_test_scaled\n",
        "Y = y_test\n",
        "\n",
        "# Create a cross-validation object\n",
        "cv = ShuffleSplit(n_splits=10, test_size=0.2, random_state=0)\n",
        "\n",
        "# Make figure\n",
        "title = 'Learning Curve'\n",
        "fig = plt.figure(figsize=(24,8))\n",
        "plot_learning_curve(best_classifier, title, X, Y, ylim=(0.3, 1.01), cv=cv)"
      ],
      "execution_count": 0,
      "outputs": [
        {
          "output_type": "execute_result",
          "data": {
            "text/plain": [
              "<module 'matplotlib.pyplot' from '/usr/local/lib/python3.6/dist-packages/matplotlib/pyplot.py'>"
            ]
          },
          "metadata": {
            "tags": []
          },
          "execution_count": 42
        },
        {
          "output_type": "display_data",
          "data": {
            "text/plain": [
              "<Figure size 1728x576 with 0 Axes>"
            ]
          },
          "metadata": {
            "tags": []
          }
        },
        {
          "output_type": "display_data",
          "data": {
            "image/png": "[encoded data removed]",
            "text/plain": [
              "<Figure size 1440x360 with 3 Axes>"
            ]
          },
          "metadata": {
            "tags": []
          }
        }
      ]
    }
  ]
}