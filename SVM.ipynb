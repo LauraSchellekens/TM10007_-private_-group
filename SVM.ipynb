{
  "nbformat": 4,
  "nbformat_minor": 0,
  "metadata": {
    "colab": {
      "name": "SVM.ipynb",
      "provenance": [],
      "authorship_tag": "ABX9TyMVoPZcGcjlGCDD89Ia5jtE",
      "include_colab_link": true
    },
    "kernelspec": {
      "name": "python3",
      "display_name": "Python 3"
    }
  },
  "cells": [
    {
      "cell_type": "markdown",
      "metadata": {
        "id": "view-in-github",
        "colab_type": "text"
      },
      "source": [
        "<a href=\"https://colab.research.google.com/github/LauraSchellekens/TM10007_-private_-group/blob/Lisanne_SVM/SVM.ipynb\" target=\"_parent\"><img src=\"https://colab.research.google.com/assets/colab-badge.svg\" alt=\"Open In Colab\"/></a>"
      ]
    },
    {
      "cell_type": "code",
      "metadata": {
        "id": "atNXkZtJu1RY",
        "colab_type": "code",
        "colab": {}
      },
      "source": [
        "# General packages\n",
        "import numpy as np \n",
        "import matplotlib.pyplot as plt\n",
        "from sklearn import datasets as ds\n",
        "# import classifier SVC\n",
        "from sklearn.svm import SVC\n"
      ],
      "execution_count": 0,
      "outputs": []
    },
    {
      "cell_type": "code",
      "metadata": {
        "id": "dUjxV2gvrlf3",
        "colab_type": "code",
        "colab": {}
      },
      "source": [
        "# Load data\n",
        "from adni.load_data import load_data\n",
        "data = load_data()\n",
        "print(f'The number of samples: {len(data.index)}')\n",
        "print(f'The number of columns: {len(data.columns)}')\n",
        "X = data.drop('label', axis=1) # All data without column 'label'\n",
        "Y = data['label'] # AD en CN moeten alleen nog omgezet worden naar 0 en 1\n",
        "Y.replace(('AD', 'CN'), (1, 0), inplace=True) # AD en CN omgezet naar 0 en 1"
      ],
      "execution_count": 0,
      "outputs": []
    },
    {
      "cell_type": "code",
      "metadata": {
        "id": "GzE5ghdXr5yw",
        "colab_type": "code",
        "colab": {}
      },
      "source": [
        "# Grid search and cross validation"
      ],
      "execution_count": 0,
      "outputs": []
    },
    {
      "cell_type": "code",
      "metadata": {
        "id": "9_hEoP5Frn75",
        "colab_type": "code",
        "colab": {}
      },
      "source": [
        "# construct classifiers\n",
        "svmlin = SVC(kernel='linear', gamma='scale')\n",
        "svmrbf = SVC(kernel='rbf', gamma='scale')\n",
        "svmpoly = SVC(kernel='poly', degree=3, gamma='scale')\n",
        "\n",
        "clsfs = [svmlin, svmpoly, svmrbf]\n",
        "\n",
        "# Now use the classifiers on all datasets\n",
        "for clf in clsfs:\n",
        "  clf.fit(X, Y)\n",
        "  y_pred = clf.predict(X)\n",
        "  t = (\"Misclassified: %d / %d\" % ((Y != y_pred).sum(), X.shape[0]))\n",
        "  print(t)"
      ],
      "execution_count": 0,
      "outputs": []
    },
    {
      "cell_type": "code",
      "metadata": {
        "id": "5Ga_7XJer1lL",
        "colab_type": "code",
        "colab": {}
      },
      "source": [
        "# scoring  \n",
        "auc=metrics.roc_auc_score(Y_r, y_score)\n",
        "accuracy=metrics.accuracy_score(Y_r, y_pred)\n",
        "F1=metrics.f1_score(Y_r,y_pred)\n",
        "precision=metrics.precision_score(Y_r,y_pred)\n",
        "recall=metrics.recall_score(Y_r, y_pred)"
      ],
      "execution_count": 0,
      "outputs": []
    }
  ]
}