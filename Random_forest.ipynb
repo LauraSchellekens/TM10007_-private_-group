{
  "nbformat": 4,
  "nbformat_minor": 0,
  "metadata": {
    "colab": {
      "name": "Copy of Copy of Untitled0.ipynb",
      "provenance": [],
      "collapsed_sections": [],
      "authorship_tag": "ABX9TyOAlhC/7y1vpkZ8BMMMcX0I",
      "include_colab_link": true
    },
    "kernelspec": {
      "name": "python3",
      "display_name": "Python 3"
    }
  },
  "cells": [
    {
      "cell_type": "markdown",
      "metadata": {
        "id": "view-in-github",
        "colab_type": "text"
      },
      "source": [
        "<a href=\"https://colab.research.google.com/github/LauraSchellekens/TM10007_-private_-group/blob/Laura_random_forest/Random_forest.ipynb\" target=\"_parent\"><img src=\"https://colab.research.google.com/assets/colab-badge.svg\" alt=\"Open In Colab\"/></a>"
      ]
    },
    {
      "cell_type": "code",
      "metadata": {
        "id": "Fm5wWUytvpIo",
        "colab_type": "code",
        "outputId": "8613c3de-7213-4eb6-81ba-372a0569f82c",
        "colab": {
          "base_uri": "https://localhost:8080/",
          "height": 242
        }
      },
      "source": [
        "# toepassen random forest op onze data \n",
        "\n",
        "# Run this to use from colab environment\n",
        "!pip install -q --upgrade git+https://github.com/karinvangarderen/tm10007_project.git\n",
        "!pip install sklearn numpy matplotlib\n"
      ],
      "execution_count": 47,
      "outputs": [
        {
          "output_type": "stream",
          "text": [
            "  Building wheel for brats (setup.py) ... \u001b[?25l\u001b[?25hdone\n",
            "Requirement already satisfied: sklearn in /usr/local/lib/python3.6/dist-packages (0.0)\n",
            "Requirement already satisfied: numpy in /usr/local/lib/python3.6/dist-packages (1.18.2)\n",
            "Requirement already satisfied: matplotlib in /usr/local/lib/python3.6/dist-packages (3.2.1)\n",
            "Requirement already satisfied: scikit-learn in /usr/local/lib/python3.6/dist-packages (from sklearn) (0.22.2.post1)\n",
            "Requirement already satisfied: kiwisolver>=1.0.1 in /usr/local/lib/python3.6/dist-packages (from matplotlib) (1.1.0)\n",
            "Requirement already satisfied: cycler>=0.10 in /usr/local/lib/python3.6/dist-packages (from matplotlib) (0.10.0)\n",
            "Requirement already satisfied: python-dateutil>=2.1 in /usr/local/lib/python3.6/dist-packages (from matplotlib) (2.8.1)\n",
            "Requirement already satisfied: pyparsing!=2.0.4,!=2.1.2,!=2.1.6,>=2.0.1 in /usr/local/lib/python3.6/dist-packages (from matplotlib) (2.4.6)\n",
            "Requirement already satisfied: scipy>=0.17.0 in /usr/local/lib/python3.6/dist-packages (from scikit-learn->sklearn) (1.4.1)\n",
            "Requirement already satisfied: joblib>=0.11 in /usr/local/lib/python3.6/dist-packages (from scikit-learn->sklearn) (0.14.1)\n",
            "Requirement already satisfied: setuptools in /usr/local/lib/python3.6/dist-packages (from kiwisolver>=1.0.1->matplotlib) (46.0.0)\n",
            "Requirement already satisfied: six in /usr/local/lib/python3.6/dist-packages (from cycler>=0.10->matplotlib) (1.12.0)\n"
          ],
          "name": "stdout"
        }
      ]
    },
    {
      "cell_type": "code",
      "metadata": {
        "id": "Z4Gg5mvezfIR",
        "colab_type": "code",
        "colab": {}
      },
      "source": [
        "# General packages\n",
        "import numpy as np \n",
        "import pandas as pd\n",
        "import matplotlib.pyplot as plt\n",
        "from sklearn.ensemble import RandomForestClassifier\n",
        "from sklearn import metrics\n",
        "from sklearn import model_selection\n",
        "from sklearn.model_selection import train_test_split\n",
        "from sklearn import impute\n",
        "from sklearn import preprocessing"
      ],
      "execution_count": 0,
      "outputs": []
    },
    {
      "cell_type": "code",
      "metadata": {
        "id": "9Y03dVfNzjPl",
        "colab_type": "code",
        "outputId": "b7a3d31f-c1f5-471f-f06b-2a9936f9450d",
        "colab": {
          "base_uri": "https://localhost:8080/",
          "height": 86
        }
      },
      "source": [
        "# Data loading functions. \n",
        "from adni.load_data import load_data\n",
        "data = load_data()\n",
        "print(f'The number of samples: {len(data.index)}')\n",
        "print(f'The number of columns: {len(data.columns)}')\n",
        "X = data.drop('label', axis=1) # All data without column 'label'\n",
        "Y = data['label'] # AD en CN moeten alleen nog omgezet worden naar 0 en 1\n",
        "Y.replace(('AD', 'CN'), (0, 1), inplace=True) # AD en CN omgezet naar 0 en 1\n",
        "print((list(data['label'] == 0)).count(True)) # displays number AD patients\n",
        "print((list(data['label'] == 0)).count(False)) # displays number of CN patients "
      ],
      "execution_count": 49,
      "outputs": [
        {
          "output_type": "stream",
          "text": [
            "The number of samples: 855\n",
            "The number of columns: 268\n",
            "519\n",
            "336\n"
          ],
          "name": "stdout"
        }
      ]
    },
    {
      "cell_type": "code",
      "metadata": {
        "id": "qIOEJw4pEO25",
        "colab_type": "code",
        "outputId": "8dfb6abf-337b-4d3f-9f8c-24ab1809a195",
        "colab": {
          "base_uri": "https://localhost:8080/",
          "height": 52
        }
      },
      "source": [
        "# split into train (70%) and test (30%) set\n",
        "\n",
        "X_train, X_test, y_train, y_test = train_test_split(X, Y, test_size=0.3)\n",
        "\n",
        "print (X_train.shape, y_train.shape)\n",
        "print (X_test.shape, y_test.shape)"
      ],
      "execution_count": 50,
      "outputs": [
        {
          "output_type": "stream",
          "text": [
            "(598, 267) (598,)\n",
            "(257, 267) (257,)\n"
          ],
          "name": "stdout"
        }
      ]
    },
    {
      "cell_type": "code",
      "metadata": {
        "id": "eq0AESGyEMNQ",
        "colab_type": "code",
        "outputId": "d1f0585f-509c-41df-f46f-76ff0fa36a22",
        "colab": {
          "base_uri": "https://localhost:8080/",
          "height": 52
        }
      },
      "source": [
        "# Preprocessing: drop feature if too many missing values\n",
        "\n",
        "X_train = X_train.replace(0, np.NaN)                  # replace 0 with NaN\n",
        "missing_per_feature = X_train.isnull().sum()          # gives the amount of missing values (NaN) per feature\n",
        "pct_null = missing_per_feature / len(X_train)         # gives percentage of missing values per feature\n",
        "missing_features = pct_null[pct_null > 0.40].index    # gives features with more than 40% missing values\n",
        "X_train.drop(missing_features, axis=1, inplace=True)  # remove feature if more than 40% missing values\n",
        "\n",
        "missing_per_feature_max = max(X_train.isnull().sum()) # gives the maximum amount of missing values (NaN) per feature AFTER dropping incomplete features\n",
        "\n",
        "print(missing_per_feature_max)\n",
        "print (X_train.shape, y_train.shape)"
      ],
      "execution_count": 51,
      "outputs": [
        {
          "output_type": "stream",
          "text": [
            "96\n",
            "(598, 261) (598,)\n"
          ],
          "name": "stdout"
        }
      ]
    },
    {
      "cell_type": "code",
      "metadata": {
        "id": "T_XtnG4mEVLN",
        "colab_type": "code",
        "outputId": "433d3500-77a4-40cb-c92a-420f82b2fa15",
        "colab": {
          "base_uri": "https://localhost:8080/",
          "height": 34
        }
      },
      "source": [
        "# Preprocessing:  impute missing values (fill missing)\n",
        "\n",
        "imputer = impute.SimpleImputer(strategy='mean')     # imputer with mean \n",
        "X_train_imp = imputer.fit_transform(X_train)          # impute  \n",
        "X_train_imp = pd.DataFrame(data=X_train_imp, index=[X_train.index], columns=[X_train.columns]) # turn created np.array back to pandas df\n",
        "\n",
        "type(X_train_imp)"
      ],
      "execution_count": 52,
      "outputs": [
        {
          "output_type": "execute_result",
          "data": {
            "text/plain": [
              "pandas.core.frame.DataFrame"
            ]
          },
          "metadata": {
            "tags": []
          },
          "execution_count": 52
        }
      ]
    },
    {
      "cell_type": "code",
      "metadata": {
        "id": "cNbXgOOKEX7x",
        "colab_type": "code",
        "colab": {}
      },
      "source": [
        "# Preprocessing: scaling either standard or robust (removes median and scales data according to quantile range) \n",
        "\n",
        "scaler = preprocessing.StandardScaler()\n",
        "scaler.fit_transform(X_train_imp)\n",
        "X_train_scaled = scaler.transform(X_train_imp)\n",
        "# robust = preprocessing.RobustScaler()\n",
        "# robust.fit_transform(X_train_imp)\n",
        "# X_train_scaled = robust.transform(X_train_imp)\n",
        "\n",
        "X_train_scaled = pd.DataFrame(data=X_train_scaled, index=[X_train.index], columns=[X_train.columns]) # turn created np.array back to pandas df\n"
      ],
      "execution_count": 0,
      "outputs": []
    },
    {
      "cell_type": "code",
      "metadata": {
        "id": "z6T9bnKiMFO0",
        "colab_type": "code",
        "outputId": "1a5ef791-ff7c-4f08-8c03-cfbaeb22ebfc",
        "colab": {
          "base_uri": "https://localhost:8080/",
          "height": 574
        }
      },
      "source": [
        "# Grid search in cross validation setting\n",
        "\n",
        "# Create a 20 fold stratified CV iterator\n",
        "#cv_20fold = model_selection.StratifiedKFold(n_splits=10)\n",
        "#results = []\n",
        "#best_n_trees = []\n",
        "\n",
        "# Loop over the folds\n",
        "#for train_index, validation_index in cv_20fold.split(X, Y): #split train data in training and validation data\n",
        "\n",
        "    # Split the data properly\n",
        "    #X_train = X[train_index]\n",
        "    #y_train = Y[train_index]\n",
        "    \n",
        "    #X_validation = X[validation_index]\n",
        "    #y_validation = Y[validation_index]\n",
        "\n",
        "# Create a grid search to find the optimal k using a gridsearch and 10-fold cross validation\n",
        "parameters = {\"n_estimators\": list(range(1, 26, 2))} # range moet gekozen worden \n",
        "rfc = RandomForestClassifier() \n",
        "# cv_10fold = model_selection.StratifiedKFold(n_splits=10) # folds moet gekozen worden en stratification\n",
        "grid_search = model_selection.GridSearchCV(rfc, parameters, scoring='roc_auc') #scoring moet gekozen worden\n",
        "grid_search.fit(X_train_scaled, y_train)\n",
        "\n",
        "# Get resulting classifier\n",
        "clf = grid_search.best_estimator_\n",
        "print(f'Best classifier: k={clf.n_estimators}')\n",
        "best_n_trees.append(clf.n_estimators)\n",
        "print(best_n_trees)\n",
        "results.append(grid_search.cv_results_) #mean_test_score\n",
        "print(results)\n",
        "score= grid_search.best_score_\n",
        "print(score)\n",
        "\n",
        "# Test the classifier on the test data\n",
        "#probabilities = clf.predict_proba(X_validation)\n",
        "#scores = probabilities[:, 1]\n",
        "      \n",
        "# Get the auc\n",
        "#auc_validation = metrics.roc_auc_score(y_validation, scores)\n",
        "#results.append({\n",
        "#'auc': auc_validation, \n",
        "#'k': clf.n_estimators,\n",
        "#'set': 'validation'\n",
        "      #})\n",
        "\n",
        "# Create results dataframe and plot it\n",
        "#results = pd.DataFrame(results)\n",
        "#seaborn.boxplot(y='auc', x='set', data=results)\n",
        "\n",
        "#optimal_n = int(np.median(best_n_trees)) # of median\n",
        "#print(f\"The optimal N={optimal_n}\")"
      ],
      "execution_count": 62,
      "outputs": [
        {
          "output_type": "stream",
          "text": [
            "Best classifier: k=23\n",
            "[23, 25, 19, 25, 17, 21, 21, 17, 25, 19, 17, 21, 21, 21, 23]\n",
            "['roc_auc', 'roc_auc', 'roc_auc', {'mean_fit_time': array([0.00708938, 0.01626415, 0.02504401, 0.03413191, 0.04311719,\n",
            "       0.05008869, 0.06145558, 0.06736178, 0.07638564, 0.08511696,\n",
            "       0.0946054 , 0.10243397, 0.1110837 ]), 'std_fit_time': array([0.00048011, 0.00047419, 0.00042868, 0.00150024, 0.0018586 ,\n",
            "       0.00180706, 0.00258633, 0.00211912, 0.00194728, 0.00162024,\n",
            "       0.00411918, 0.00493887, 0.00410968]), 'mean_score_time': array([0.00252876, 0.00265722, 0.00286736, 0.00338602, 0.00339928,\n",
            "       0.00357394, 0.00414567, 0.00390296, 0.00408268, 0.00427361,\n",
            "       0.00446062, 0.00486636, 0.00477371]), 'std_score_time': array([3.52765425e-04, 5.46916631e-05, 1.15325864e-04, 2.79707369e-04,\n",
            "       1.36346797e-04, 1.15908158e-04, 6.39626908e-04, 5.75084986e-05,\n",
            "       1.37933751e-04, 1.88166818e-04, 1.37514198e-04, 6.07785160e-04,\n",
            "       1.53851167e-04]), 'param_n_estimators': masked_array(data=[1, 3, 5, 7, 9, 11, 13, 15, 17, 19, 21, 23, 25],\n",
            "             mask=[False, False, False, False, False, False, False, False,\n",
            "                   False, False, False, False, False],\n",
            "       fill_value='?',\n",
            "            dtype=object), 'params': [{'n_estimators': 1}, {'n_estimators': 3}, {'n_estimators': 5}, {'n_estimators': 7}, {'n_estimators': 9}, {'n_estimators': 11}, {'n_estimators': 13}, {'n_estimators': 15}, {'n_estimators': 17}, {'n_estimators': 19}, {'n_estimators': 21}, {'n_estimators': 23}, {'n_estimators': 25}], 'split0_test_score': array([0.72722047, 0.77982179, 0.8286864 , 0.81805116, 0.83371659,\n",
            "       0.84061512, 0.8190572 , 0.88171888, 0.86016097, 0.86375395,\n",
            "       0.87568267, 0.87252084, 0.85383731]), 'split1_test_score': array([0.68108652, 0.77824087, 0.76343777, 0.79548721, 0.79088819,\n",
            "       0.81517677, 0.81273354, 0.79333142, 0.81690141, 0.80655361,\n",
            "       0.81072147, 0.83242311, 0.82035068]), 'split2_test_score': array([0.69977005, 0.79016959, 0.84406439, 0.85326243, 0.89149181,\n",
            "       0.9002587 , 0.88574303, 0.86619718, 0.91290601, 0.90744467,\n",
            "       0.88933602, 0.90773211, 0.88358724]), 'split3_test_score': array([0.7255102 , 0.753207  , 0.85947522, 0.83921283, 0.89591837,\n",
            "       0.84314869, 0.85962099, 0.86472303, 0.87405248, 0.86268222,\n",
            "       0.89475219, 0.8861516 , 0.88906706]), 'split4_test_score': array([0.63877551, 0.77201166, 0.76137026, 0.81588921, 0.79271137,\n",
            "       0.78892128, 0.81720117, 0.80204082, 0.80918367, 0.76880466,\n",
            "       0.82084548, 0.83965015, 0.83688047]), 'mean_test_score': array([0.69447255, 0.77469018, 0.81140681, 0.82438057, 0.84094526,\n",
            "       0.83762411, 0.83887119, 0.84160227, 0.85464091, 0.84184782,\n",
            "       0.85826756, 0.86769556, 0.85674455]), 'std_test_score': array([0.03269609, 0.01222501, 0.04118339, 0.02000574, 0.0457416 ,\n",
            "       0.03698218, 0.02888904, 0.03645273, 0.03819092, 0.04857547,\n",
            "       0.03538561, 0.02827552, 0.02643037]), 'rank_test_score': array([13, 12, 11, 10,  7,  9,  8,  6,  4,  5,  2,  1,  3], dtype=int32)}]\n",
            "0.8676955611218329\n"
          ],
          "name": "stdout"
        }
      ]
    },
    {
      "cell_type": "code",
      "metadata": {
        "id": "iQA6HrsBrL1w",
        "colab_type": "code",
        "outputId": "758b0bee-0518-46d1-8079-7975fee9efc2",
        "colab": {
          "base_uri": "https://localhost:8080/",
          "height": 217
        }
      },
      "source": [
        "# Use the optimal parameters without any tuning to validate the optimal classifier\n",
        "clf = RandomForestClassifier(n_estimators=optimal_n)\n",
        "clf.fit(X, Y)\n",
        "y_pred = clf.predict(X)\n",
        "t = (\"Misclassified: %d / %d\" % ((Y != y_pred).sum(), X.shape[0]))"
      ],
      "execution_count": 0,
      "outputs": [
        {
          "output_type": "error",
          "ename": "NameError",
          "evalue": "ignored",
          "traceback": [
            "\u001b[0;31m---------------------------------------------------------------------------\u001b[0m",
            "\u001b[0;31mNameError\u001b[0m                                 Traceback (most recent call last)",
            "\u001b[0;32m<ipython-input-38-143ab7d0f9ad>\u001b[0m in \u001b[0;36m<module>\u001b[0;34m()\u001b[0m\n\u001b[0;32m----> 1\u001b[0;31m \u001b[0mclf\u001b[0m \u001b[0;34m=\u001b[0m \u001b[0mRandomForestClassifier\u001b[0m\u001b[0;34m(\u001b[0m\u001b[0mn_estimators\u001b[0m\u001b[0;34m=\u001b[0m\u001b[0moptimal_n\u001b[0m\u001b[0;34m)\u001b[0m\u001b[0;34m\u001b[0m\u001b[0;34m\u001b[0m\u001b[0m\n\u001b[0m\u001b[1;32m      2\u001b[0m \u001b[0mclf\u001b[0m\u001b[0;34m.\u001b[0m\u001b[0mfit\u001b[0m\u001b[0;34m(\u001b[0m\u001b[0mX\u001b[0m\u001b[0;34m,\u001b[0m \u001b[0mY\u001b[0m\u001b[0;34m)\u001b[0m\u001b[0;34m\u001b[0m\u001b[0;34m\u001b[0m\u001b[0m\n\u001b[1;32m      3\u001b[0m \u001b[0my_pred\u001b[0m \u001b[0;34m=\u001b[0m \u001b[0mclf\u001b[0m\u001b[0;34m.\u001b[0m\u001b[0mpredict\u001b[0m\u001b[0;34m(\u001b[0m\u001b[0mX\u001b[0m\u001b[0;34m)\u001b[0m\u001b[0;34m\u001b[0m\u001b[0;34m\u001b[0m\u001b[0m\n\u001b[1;32m      4\u001b[0m \u001b[0mt\u001b[0m \u001b[0;34m=\u001b[0m \u001b[0;34m(\u001b[0m\u001b[0;34m\"Misclassified: %d / %d\"\u001b[0m \u001b[0;34m%\u001b[0m \u001b[0;34m(\u001b[0m\u001b[0;34m(\u001b[0m\u001b[0mY\u001b[0m \u001b[0;34m!=\u001b[0m \u001b[0my_pred\u001b[0m\u001b[0;34m)\u001b[0m\u001b[0;34m.\u001b[0m\u001b[0msum\u001b[0m\u001b[0;34m(\u001b[0m\u001b[0;34m)\u001b[0m\u001b[0;34m,\u001b[0m \u001b[0mX\u001b[0m\u001b[0;34m.\u001b[0m\u001b[0mshape\u001b[0m\u001b[0;34m[\u001b[0m\u001b[0;36m0\u001b[0m\u001b[0;34m]\u001b[0m\u001b[0;34m)\u001b[0m\u001b[0;34m)\u001b[0m\u001b[0;34m\u001b[0m\u001b[0;34m\u001b[0m\u001b[0m\n",
            "\u001b[0;31mNameError\u001b[0m: name 'optimal_n' is not defined"
          ]
        }
      ]
    },
    {
      "cell_type": "code",
      "metadata": {
        "id": "zf-yijMx4zT_",
        "colab_type": "code",
        "colab": {}
      },
      "source": [
        "# scoring classifier   \n",
        "    auc=metrics.roc_auc_score(Y_r, y_score)\n",
        "    accuracy=metrics.accuracy_score(Y_r, y_pred)\n",
        "    F1=metrics.f1_score(Y_r,y_pred)\n",
        "    precision=metrics.precision_score(Y_r,y_pred)\n",
        "    recall=metrics.recall_score(Y_r, y_pred)"
      ],
      "execution_count": 0,
      "outputs": []
    }
  ]
}