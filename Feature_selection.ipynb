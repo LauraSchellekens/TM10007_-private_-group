{
  "nbformat": 4,
  "nbformat_minor": 0,
  "metadata": {
    "colab": {
      "name": "Feature_selection.ipynb",
      "provenance": [],
      "authorship_tag": "ABX9TyPJ7XHdYrReWtnn/xJiQMfr",
      "include_colab_link": true
    },
    "kernelspec": {
      "name": "python3",
      "display_name": "Python 3"
    }
  },
  "cells": [
    {
      "cell_type": "markdown",
      "metadata": {
        "id": "view-in-github",
        "colab_type": "text"
      },
      "source": [
        "<a href=\"https://colab.research.google.com/github/LauraSchellekens/TM10007_-private_-group/blob/Manon_feature_selection/Feature_selection.ipynb\" target=\"_parent\"><img src=\"https://colab.research.google.com/assets/colab-badge.svg\" alt=\"Open In Colab\"/></a>"
      ]
    },
    {
      "cell_type": "code",
      "metadata": {
        "id": "yspojLoynk8B",
        "colab_type": "code",
        "outputId": "ed162eba-4c19-4911-d567-3b5ecc1b04a3",
        "colab": {
          "base_uri": "https://localhost:8080/",
          "height": 235
        }
      },
      "source": [
        "# Run this to use from colab environment\n",
        "!pip install -q --upgrade git+https://github.com/karinvangarderen/tm10007_project.git\n",
        "!pip install sklearn numpy matplotlib"
      ],
      "execution_count": 1,
      "outputs": [
        {
          "output_type": "stream",
          "text": [
            "  Building wheel for brats (setup.py) ... \u001b[?25l\u001b[?25hdone\n",
            "Requirement already satisfied: sklearn in /usr/local/lib/python3.6/dist-packages (0.0)\n",
            "Requirement already satisfied: numpy in /usr/local/lib/python3.6/dist-packages (1.18.2)\n",
            "Requirement already satisfied: matplotlib in /usr/local/lib/python3.6/dist-packages (3.2.1)\n",
            "Requirement already satisfied: scikit-learn in /usr/local/lib/python3.6/dist-packages (from sklearn) (0.22.2.post1)\n",
            "Requirement already satisfied: cycler>=0.10 in /usr/local/lib/python3.6/dist-packages (from matplotlib) (0.10.0)\n",
            "Requirement already satisfied: kiwisolver>=1.0.1 in /usr/local/lib/python3.6/dist-packages (from matplotlib) (1.2.0)\n",
            "Requirement already satisfied: pyparsing!=2.0.4,!=2.1.2,!=2.1.6,>=2.0.1 in /usr/local/lib/python3.6/dist-packages (from matplotlib) (2.4.7)\n",
            "Requirement already satisfied: python-dateutil>=2.1 in /usr/local/lib/python3.6/dist-packages (from matplotlib) (2.8.1)\n",
            "Requirement already satisfied: joblib>=0.11 in /usr/local/lib/python3.6/dist-packages (from scikit-learn->sklearn) (0.14.1)\n",
            "Requirement already satisfied: scipy>=0.17.0 in /usr/local/lib/python3.6/dist-packages (from scikit-learn->sklearn) (1.4.1)\n",
            "Requirement already satisfied: six in /usr/local/lib/python3.6/dist-packages (from cycler>=0.10->matplotlib) (1.12.0)\n"
          ],
          "name": "stdout"
        }
      ]
    },
    {
      "cell_type": "code",
      "metadata": {
        "id": "fhTSxoj3oma-",
        "colab_type": "code",
        "colab": {}
      },
      "source": [
        "# General packages not sure anymore what I'm actually using lol\n",
        "import numpy as np \n",
        "import pandas as pd\n",
        "\n",
        "from sklearn.ensemble import RandomForestClassifier\n",
        "from sklearn import metrics\n",
        "from sklearn import model_selection\n",
        "from sklearn import preprocessing\n",
        "from sklearn import impute\n",
        "from sklearn import datasets, linear_model\n",
        "from sklearn import svm\n",
        "import matplotlib.pyplot as plt\n",
        "from sklearn import feature_selection \n",
        "from sklearn import feature_selection \n",
        "from sklearn.model_selection import train_test_split"
      ],
      "execution_count": 0,
      "outputs": []
    },
    {
      "cell_type": "code",
      "metadata": {
        "id": "Qrk3dpP9pv6u",
        "colab_type": "code",
        "outputId": "d5fe5b8d-7033-4485-fa93-820b8ddeb9b6",
        "colab": {
          "base_uri": "https://localhost:8080/",
          "height": 53
        }
      },
      "source": [
        "# Data loading functions. Uncomment the one you want to use\n",
        "from adni.load_data import load_data\n",
        "\n",
        "data = load_data()\n",
        "print(f'The number of samples: {len(data.index)}')\n",
        "print(f'The number of columns: {len(data.columns)}')\n",
        "\n",
        "\n",
        "X = data.drop('label', axis=1) # All data without column 'label'\n",
        "Y = data['label'] \n",
        "Y.replace(('AD', 'CN'), (1, 0), inplace=True) # convert AD and CN to 1 and 0"
      ],
      "execution_count": 3,
      "outputs": [
        {
          "output_type": "stream",
          "text": [
            "The number of samples: 855\n",
            "The number of columns: 268\n"
          ],
          "name": "stdout"
        }
      ]
    },
    {
      "cell_type": "code",
      "metadata": {
        "id": "uE3iVgNppzrP",
        "colab_type": "code",
        "outputId": "de46230a-4151-413e-aba5-bb597348403c",
        "colab": {
          "base_uri": "https://localhost:8080/",
          "height": 53
        }
      },
      "source": [
        "# split into train (70%) and test (30%) set\n",
        "\n",
        "X_train, X_test, y_train, y_test = train_test_split(X, Y, test_size=0.3)\n",
        "\n",
        "print (X_train.shape, y_train.shape)\n",
        "print (X_test.shape, y_test.shape)"
      ],
      "execution_count": 4,
      "outputs": [
        {
          "output_type": "stream",
          "text": [
            "(598, 267) (598,)\n",
            "(257, 267) (257,)\n"
          ],
          "name": "stdout"
        }
      ]
    },
    {
      "cell_type": "code",
      "metadata": {
        "id": "cHpvbroXp511",
        "colab_type": "code",
        "outputId": "0b741354-d5e1-4d9c-ace0-b6949ebf7d3c",
        "colab": {
          "base_uri": "https://localhost:8080/",
          "height": 53
        }
      },
      "source": [
        "# Preprocessing: drop feature if too many missing values\n",
        "\n",
        "X_train = X_train.replace(0, np.NaN)                                    # replace 0 with NaN\n",
        "missing_per_feature_train = X_train.isnull().sum()                      # gives the amount of missing values (NaN) per feature\n",
        "pct_null_train = missing_per_feature_train / len(X_train)               # gives percentage of missing values per feature\n",
        "missing_features_train = pct_null_train[pct_null_train > 0.40].index    # gives features with more than 40% missing values\n",
        "X_train.drop(missing_features_train, axis=1, inplace=True)              # remove feature if more than 40% missing values\n",
        "\n",
        "X_test = X_test.replace(0, np.NaN)                                      # replace 0 with NaN\n",
        "missing_per_feature_test = X_test.isnull().sum()                        # gives the amount of missing values (NaN) per feature\n",
        "pct_null_test = missing_per_feature_test / len(X_test)                  # gives percentage of missing values per feature\n",
        "missing_features_test = pct_null_test[pct_null_train > 0.40].index      # gives features with more than 40% missing values\n",
        "X_test.drop(missing_features_test, axis=1, inplace=True)                # remove feature if more than 40% missing values\n",
        "\n",
        "missing_per_feature_max_train = max(X_train.isnull().sum())             # gives the maximum amount of missing values (NaN) per feature AFTER dropping incomplete features\n",
        "missing_per_feature_max_test = max(X_test.isnull().sum())               # gives the maximum amount of missing values (NaN) per feature AFTER dropping incomplete features\n",
        "\n",
        "print(missing_per_feature_max_train)\n",
        "print (X_train.shape, y_train.shape)"
      ],
      "execution_count": 5,
      "outputs": [
        {
          "output_type": "stream",
          "text": [
            "97\n",
            "(598, 261) (598,)\n"
          ],
          "name": "stdout"
        }
      ]
    },
    {
      "cell_type": "code",
      "metadata": {
        "id": "d4jbZlJNp91q",
        "colab_type": "code",
        "outputId": "9c20d4cd-b080-4562-9bb2-6c134aee5da2",
        "colab": {
          "base_uri": "https://localhost:8080/",
          "height": 35
        }
      },
      "source": [
        "# Preprocessing:  impute missing values (fill missing)\n",
        "\n",
        "imputer = impute.SimpleImputer(strategy='mean')       # imputer with mean \n",
        "X_train_imp = imputer.fit_transform(X_train)          # impute  \n",
        "X_train_imp = pd.DataFrame(data=X_train_imp, index=[X_train.index], columns=[X_train.columns])  # turn created np.array back to pandas df\n",
        "\n",
        "X_test_imp = imputer.fit_transform(X_test)            # impute  \n",
        "X_test_imp = pd.DataFrame(data=X_test_imp, index=[X_test.index], columns=[X_test.columns])      # turn created np.array back to pandas df\n",
        "\n",
        "type(X_train_imp)\n"
      ],
      "execution_count": 6,
      "outputs": [
        {
          "output_type": "execute_result",
          "data": {
            "text/plain": [
              "pandas.core.frame.DataFrame"
            ]
          },
          "metadata": {
            "tags": []
          },
          "execution_count": 6
        }
      ]
    },
    {
      "cell_type": "code",
      "metadata": {
        "id": "P_mYOiIpqSTW",
        "colab_type": "code",
        "outputId": "b30ebc92-40c2-437e-c7cc-cc1c7f9165fc",
        "colab": {
          "base_uri": "https://localhost:8080/",
          "height": 35
        }
      },
      "source": [
        "# Preprocessing: scaling either standard or robust (removes median and scales data according to quantile range) \n",
        "\n",
        "scaler = preprocessing.StandardScaler()\n",
        "scaler.fit_transform(X_train_imp)\n",
        "X_train_scaled = scaler.transform(X_train_imp)        # scaling the training data\n",
        "\n",
        "scaler.fit_transform(X_test_imp)\n",
        "X_test_scaled = scaler.transform(X_test_imp)          # scaling the test data\n",
        "\n",
        "X_train_scaled = pd.DataFrame(data=X_train_scaled, index=[X_train.index], columns=[X_train.columns])  # turn created np.array back to pandas df\n",
        "X_test_scaled = pd.DataFrame(data=X_test_scaled, index=[X_test.index], columns=[X_test.columns])      # turn created np.array back to pandas df\n",
        "\n",
        "print(len(X_train_scaled))"
      ],
      "execution_count": 7,
      "outputs": [
        {
          "output_type": "stream",
          "text": [
            "598\n"
          ],
          "name": "stdout"
        }
      ]
    },
    {
      "cell_type": "code",
      "metadata": {
        "id": "MDUa0jAipO-i",
        "colab_type": "code",
        "colab": {}
      },
      "source": [
        "# Code for feature selection\n",
        "'''\n",
        "First determine the best amount of features\n",
        "'''\n",
        "\n",
        "# Create the RFE object and compute a cross-validated score.\n",
        "svc = svm.SVC(kernel=\"linear\", random_state= None)\n",
        "X= X_train_scaled\n",
        "y= y_train"
      ],
      "execution_count": 0,
      "outputs": []
    },
    {
      "cell_type": "code",
      "metadata": {
        "id": "HijFXdeGgjTd",
        "colab_type": "code",
        "outputId": "3eeb374a-7f5d-4eb8-f07c-a5f5b9370159",
        "colab": {
          "base_uri": "https://localhost:8080/",
          "height": 243
        }
      },
      "source": [
        "\n",
        "\n",
        "# classifications\n",
        "rfecv = feature_selection.RFECV(\n",
        "    estimator=svc, step=1, \n",
        "    cv=model_selection.StratifiedKFold(n_splits=5),\n",
        "    scoring='roc_auc')\n",
        "rfecv.fit(X, y)\n",
        "feature_selection.RFECV()\n",
        "# Plot number of features VS. cross-validation scores\n",
        "plt.figure()\n",
        "plt.xlabel(\"Number of features selected\")\n",
        "plt.ylabel(\"Cross validation score (nb of correct classifications)\")\n",
        "plt.plot(range(1, len(rfecv.grid_scores_) + 1), rfecv.grid_scores_)\n",
        "plt.show()\n"
      ],
      "execution_count": 0,
      "outputs": [
        {
          "output_type": "error",
          "ename": "NameError",
          "evalue": "ignored",
          "traceback": [
            "\u001b[0;31m---------------------------------------------------------------------------\u001b[0m",
            "\u001b[0;31mNameError\u001b[0m                                 Traceback (most recent call last)",
            "\u001b[0;32m<ipython-input-25-ee23b68b20b2>\u001b[0m in \u001b[0;36m<module>\u001b[0;34m()\u001b[0m\n\u001b[1;32m      1\u001b[0m rfecv = feature_selection.RFECV(\n\u001b[0;32m----> 2\u001b[0;31m     \u001b[0mestimator\u001b[0m\u001b[0;34m=\u001b[0m\u001b[0msvc\u001b[0m\u001b[0;34m,\u001b[0m \u001b[0mstep\u001b[0m\u001b[0;34m=\u001b[0m\u001b[0;36m1\u001b[0m\u001b[0;34m,\u001b[0m\u001b[0;34m\u001b[0m\u001b[0;34m\u001b[0m\u001b[0m\n\u001b[0m\u001b[1;32m      3\u001b[0m     \u001b[0mcv\u001b[0m\u001b[0;34m=\u001b[0m\u001b[0mmodel_selection\u001b[0m\u001b[0;34m.\u001b[0m\u001b[0mStratifiedKFold\u001b[0m\u001b[0;34m(\u001b[0m\u001b[0mn_splits\u001b[0m\u001b[0;34m=\u001b[0m\u001b[0;36m5\u001b[0m\u001b[0;34m)\u001b[0m\u001b[0;34m,\u001b[0m\u001b[0;34m\u001b[0m\u001b[0;34m\u001b[0m\u001b[0m\n\u001b[1;32m      4\u001b[0m     scoring='roc_auc')\n\u001b[1;32m      5\u001b[0m \u001b[0mrfecv\u001b[0m\u001b[0;34m.\u001b[0m\u001b[0mfit\u001b[0m\u001b[0;34m(\u001b[0m\u001b[0mX\u001b[0m\u001b[0;34m,\u001b[0m \u001b[0my\u001b[0m\u001b[0;34m)\u001b[0m\u001b[0;34m\u001b[0m\u001b[0;34m\u001b[0m\u001b[0m\n",
            "\u001b[0;31mNameError\u001b[0m: name 'svc' is not defined"
          ]
        }
      ]
    },
    {
      "cell_type": "code",
      "metadata": {
        "id": "G99ms2zwhnpX",
        "colab_type": "code",
        "outputId": "cd293248-f8fb-476c-bd0a-2d9e3ff60b4f",
        "colab": {
          "base_uri": "https://localhost:8080/",
          "height": 689
        }
      },
      "source": [
        "# Code for feature selection\n",
        "'''\n",
        "With the amount of features desired known, find the best performing features\n",
        "'''\n",
        "import pandas as pd\n",
        "import numpy as np\n",
        "from sklearn.feature_selection import SelectKBest\n",
        "from sklearn.feature_selection import f_classif\n",
        " \n",
        "#apply SelectKBest class to extract top ... best features\n",
        "bestfeatures = SelectKBest(score_func= f_classif, k=32) # k= number of desired features\n",
        "fit = bestfeatures.fit(X,y)\n",
        "dfscores = pd.DataFrame(fit.scores_)\n",
        "dfcolumns = pd.DataFrame(X.columns)\n",
        "#concat two dataframes for better visualization \n",
        "featureScores = pd.concat([dfcolumns,dfscores],axis=1)\n",
        "featureScores.columns = ['Specs','Score']  #naming the dataframe columns\n",
        "print(featureScores.nlargest(32,'Score'))  #print ... best features \n"
      ],
      "execution_count": 0,
      "outputs": [
        {
          "output_type": "stream",
          "text": [
            "                                            Specs       Score\n",
            "1                                   (hf_entropy,)  540.044084\n",
            "2                                  (hf_kurtosis,)  404.552131\n",
            "11                                      (hf_std,)  364.426795\n",
            "8                            (hf_quartile_range,)  353.618383\n",
            "218                          (tf_LBP_std_R3_P12,)  349.047098\n",
            "99   (tf_GLRLM_GrayLevelNonUniformityNormalized,)  282.934329\n",
            "100                 (tf_GLRLM_GrayLevelVariance,)  281.213410\n",
            "111                  (tf_GLRLM_ShortRunEmphasis,)  280.321212\n",
            "222                        (tf_NGTDM_Complexity,)  279.807015\n",
            "113      (tf_GLRLM_ShortRunLowGrayLevelEmphasis,)  257.356041\n",
            "73              (phasef_phasesym_entropy_WL3_N5,)  238.773800\n",
            "134                      (tf_Gabor_0.05A0.0skew,)  226.395155\n",
            "6                                       (hf_min,)  207.733146\n",
            "150                     (tf_Gabor_0.05A2.36mean,)  188.879981\n",
            "9                                     (hf_range,)  187.038136\n",
            "79             (phasef_phasesym_skewness_WL3_N5,)  185.437295\n",
            "102                   (tf_GLRLM_LongRunEmphasis,)  183.988293\n",
            "223                          (tf_NGTDM_Contrast,)  183.260703\n",
            "109                     (tf_GLRLM_RunPercentage,)  183.125864\n",
            "76                 (phasef_phasesym_mean_WL3_N5,)  177.247287\n",
            "139                      (tf_Gabor_0.05A0.79min,)  175.850030\n",
            "162                      (tf_Gabor_0.2A0.79mean,)  168.068926\n",
            "203                     (tf_LBP_kurtosis_R3_P12,)  167.987448\n",
            "137                      (tf_Gabor_0.05A0.79max,)  162.962924\n",
            "80                  (phasef_phasesym_std_WL3_N5,)  161.997513\n",
            "75                  (phasef_phasesym_max_WL3_N5,)  161.792751\n",
            "78                (phasef_phasesym_range_WL3_N5,)  161.792751\n",
            "155                        (tf_Gabor_0.2A0.0max,)  161.561995\n",
            "220                          (tf_NGTDM_Busyness,)  153.628289\n",
            "159                        (tf_Gabor_0.2A0.0std,)  151.270528\n",
            "154                       (tf_Gabor_0.2A0.0kurt,)  146.074870\n",
            "107            (tf_GLRLM_RunLengthNonUniformity,)  145.674808\n"
          ],
          "name": "stdout"
        },
        {
          "output_type": "stream",
          "text": [
            "/usr/local/lib/python3.6/dist-packages/sklearn/feature_selection/_univariate_selection.py:114: UserWarning: Features [208 211 212 213] are constant.\n",
            "  UserWarning)\n",
            "/usr/local/lib/python3.6/dist-packages/sklearn/feature_selection/_univariate_selection.py:115: RuntimeWarning: invalid value encountered in true_divide\n",
            "  f = msb / msw\n"
          ],
          "name": "stderr"
        }
      ]
    },
    {
      "cell_type": "code",
      "metadata": {
        "id": "a1mm5LEp7m4Q",
        "colab_type": "code",
        "outputId": "30ec0157-a4bc-496c-c86e-3282f7b1c656",
        "colab": {
          "base_uri": "https://localhost:8080/",
          "height": 519
        }
      },
      "source": [
        "# Code for PCA\n",
        "from sklearn import decomposition\n",
        "import seaborn\n",
        "pca = decomposition.PCA(n_components=260) #blabla comment test\n",
        "X= X_train_scaled\n",
        "test= X_test_scaled\n",
        "pca.fit(X)\n",
        "pca.transform(X)\n",
        "y= y_train\n",
        "# X_pca= pd.DataFrame(data= X_train_pca, index=[X.index], columns=[X.columns])\n",
        "X_test_pca = pca.transform(test)\n",
        "print(X_train_pca)\n",
        "#X_train_scaled = pd.DataFrame(data=X_train_scaled, index=[X_train.index], columns=[X_train.columns])\n",
        "seaborn.scatterplot(x=X_train_pca[:, 0], y=X_train_pca[:, 1], hue=y)"
      ],
      "execution_count": 17,
      "outputs": [
        {
          "output_type": "stream",
          "text": [
            "[[-5.66683017e+00  3.77561874e+00 -3.99146916e+00 ... -3.07082850e-16\n",
            "  -1.52989336e-16 -1.59112376e-18]\n",
            " [-5.31542614e+00 -2.08840378e-01 -5.66325676e+00 ...  7.57651641e-17\n",
            "   5.72636704e-17  2.31817275e-17]\n",
            " [ 6.58843229e+00 -2.66613020e+00  1.35114071e+00 ... -2.02297112e-16\n",
            "   5.46315137e-17 -1.28384679e-17]\n",
            " ...\n",
            " [-2.00402570e+00 -4.05933658e+00 -3.65931722e-01 ... -1.16684410e-17\n",
            "  -2.71461911e-17 -2.71778502e-17]\n",
            " [ 1.26847714e+01 -9.37523981e+00  7.84922456e+00 ... -3.50751108e-16\n",
            "   3.95769441e-17  8.33635978e-18]\n",
            " [-6.27815829e+00  1.52623594e+00 -2.50801438e+00 ...  4.70759730e-18\n",
            "   1.23053514e-17  7.89920701e-17]]\n"
          ],
          "name": "stdout"
        },
        {
          "output_type": "execute_result",
          "data": {
            "text/plain": [
              "<matplotlib.axes._subplots.AxesSubplot at 0x7f604d1452b0>"
            ]
          },
          "metadata": {
            "tags": []
          },
          "execution_count": 17
        },
        {
          "output_type": "display_data",
          "data": {
            "image/png": "[encoded data removed]",
            "text/plain": [
              "<Figure size 432x288 with 1 Axes>"
            ]
          },
          "metadata": {
            "tags": [],
            "needs_background": "light"
          }
        }
      ]
    },
    {
      "cell_type": "code",
      "metadata": {
        "id": "3-mK2KKEd2T2",
        "colab_type": "code",
        "colab": {
          "base_uri": "https://localhost:8080/",
          "height": 35
        },
        "outputId": "8b4d33b6-c366-4a74-9041-60bb9293248c"
      },
      "source": [
        "print(type(X_train_pca))"
      ],
      "execution_count": 13,
      "outputs": [
        {
          "output_type": "stream",
          "text": [
            "<class 'numpy.ndarray'>\n"
          ],
          "name": "stdout"
        }
      ]
    },
    {
      "cell_type": "code",
      "metadata": {
        "id": "WApgq45jdzNe",
        "colab_type": "code",
        "colab": {
          "base_uri": "https://localhost:8080/",
          "height": 35
        },
        "outputId": "306a52a4-09c6-4dbe-b1da-95bf56cac60a"
      },
      "source": [
        "print(type(pca))"
      ],
      "execution_count": 14,
      "outputs": [
        {
          "output_type": "stream",
          "text": [
            "<class 'sklearn.decomposition._pca.PCA'>\n"
          ],
          "name": "stdout"
        }
      ]
    },
    {
      "cell_type": "code",
      "metadata": {
        "id": "C3cuKF5t6Gdt",
        "colab_type": "code",
        "outputId": "cab1bcaa-d110-4a3e-9c84-1cc3a111cbb7",
        "colab": {
          "base_uri": "https://localhost:8080/",
          "height": 279
        }
      },
      "source": [
        "plt.plot(np.cumsum(pca.explained_variance_ratio_))\n",
        "plt.xlabel('number of components')\n",
        "plt.ylabel('cumulative explained variance');"
      ],
      "execution_count": 19,
      "outputs": [
        {
          "output_type": "display_data",
          "data": {
            "image/png": "[encoded data removed]",
            "text/plain": [
              "<Figure size 432x288 with 1 Axes>"
            ]
          },
          "metadata": {
            "tags": [],
            "needs_background": "light"
          }
        }
      ]
    }
  ]
}